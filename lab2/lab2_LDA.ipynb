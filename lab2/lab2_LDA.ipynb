{
 "cells": [
  {
   "cell_type": "markdown",
   "metadata": {},
   "source": [
    "## LDA with collapsed Gibbs sampling"
   ]
  },
  {
   "cell_type": "code",
   "execution_count": 1,
   "metadata": {
    "collapsed": false
   },
   "outputs": [
    {
     "data": {
      "text/plain": [
       "0"
      ]
     },
     "execution_count": 1,
     "metadata": {},
     "output_type": "execute_result"
    }
   ],
   "source": [
    "include(\"src/lda.jl\")\n",
    "ENV[\"LINES\"] = 40\n",
    "ENV[\"COLUMNS\"] = 120\n",
    "\n",
    "dictfile = \"data/R3_all_Dictionary.txt\"\n",
    "documentfile = \"data/R3-trn-all_run.txt\" \n",
    "gtfile = \"data/R3-Label.txt\"\n",
    "documentfile_test = \"data/R3-tst-all_run.txt\"\n",
    "gtfile_test = \"data/R3-GT.txt\"\n",
    "\n",
    "gt = readdlm(gtfile, Int64)\n",
    "document_matrix, dictionary = ldac2docterm(dictfile, documentfile);\n",
    "document_matrix_test, _ = ldac2docterm(dictfile, documentfile_test);\n",
    "gt_test = readdlm(gtfile_test, Int64)\n",
    "\n",
    "# Remove all stopwords\n",
    "include(\"src/stopwords.jl\")\n",
    "stopwords = findin(dictionary, stopwords)\n",
    "document_matrix[:, stopwords] = 0\n",
    "document_matrix_test[:, stopwords] = 0"
   ]
  },
  {
   "cell_type": "markdown",
   "metadata": {},
   "source": [
    "#### Run with T=3 topics"
   ]
  },
  {
   "cell_type": "code",
   "execution_count": 2,
   "metadata": {
    "collapsed": false
   },
   "outputs": [
    {
     "name": "stdout",
     "output_type": "stream",
     "text": [
      "iteration: 10, elapsed time: 9.985158920288086s\n",
      "iteration: 20, elapsed time: 20.835213899612427s\n",
      "iteration: 30, elapsed time: 31.613263845443726s\n",
      "iteration: 40, elapsed time: 41.867663860321045s\n",
      "iteration: 50, elapsed time: 52.646684885025024s\n",
      "iteration: 60, elapsed time: 63.13225293159485s\n",
      "iteration: 70, elapsed time: 74.37708497047424s\n",
      "iteration: 80, elapsed time: 84.82683992385864s\n",
      "iteration: 90, elapsed time: 94.62029981613159s\n",
      "iteration: 100, elapsed time: 104.20041680335999s\n"
     ]
    }
   ],
   "source": [
    "n_iter = 100\n",
    "verbose = true\n",
    "seed = 1234\n",
    "\n",
    "alpha = 0.3\n",
    "beta = 0.3\n",
    "T = 3\n",
    "phi, theta = lda(document_matrix, alpha, beta, T,\n",
    "                    n_iter, verbose, seed);"
   ]
  },
  {
   "cell_type": "markdown",
   "metadata": {},
   "source": [
    "### Top 30 words in the 3 topics"
   ]
  },
  {
   "cell_type": "code",
   "execution_count": 3,
   "metadata": {
    "collapsed": false
   },
   "outputs": [
    {
     "data": {
      "text/plain": [
       "30×3 Array{Any,2}:\n",
       " \"oil\"         \"trade\"          \"said\"      \n",
       " \"reuter\"      \"reuter\"         \"reuter\"    \n",
       " \"said\"        \"said\"           \"bank\"      \n",
       " \"dlrs\"        \"states\"         \"market\"    \n",
       " \"crude\"       \"united\"         \"billion\"   \n",
       " \"prices\"      \"japan\"          \"trade\"     \n",
       " \"mln\"         \"told\"           \"exchange\"  \n",
       " \"day\"         \"countries\"      \"mln\"       \n",
       " \"barrels\"     \"agreement\"      \"pct\"       \n",
       " \"petroleum\"   \"japanese\"       \"dollar\"    \n",
       " \"energy\"      \"year\"           \"year\"      \n",
       " \"company\"     \"tariffs\"        \"currency\"  \n",
       " \"pct\"         \"reagan\"         \"money\"     \n",
       " \"price\"       \"foreign\"        \"treasury\"  \n",
       " \"production\"  \"markets\"        \"today\"     \n",
       " \"opec\"        \"washington\"     \"rate\"      \n",
       " \"barrel\"      \"president\"      \"rates\"     \n",
       " \"year\"        \"world\"          \"deficit\"   \n",
       " \"minister\"    \"talks\"          \"economic\"  \n",
       " \"bpd\"         \"house\"          \"central\"   \n",
       " \"today\"       \"international\"  \"foreign\"   \n",
       " \"corp\"        \"officials\"      \"dlrs\"      \n",
       " \"industry\"    \"goods\"          \"official\"  \n",
       " \"output\"      \"government\"     \"nations\"   \n",
       " \"dlr\"         \"general\"        \"stg\"       \n",
       " \"new\"         \"week\"           \"february\"  \n",
       " \"state\"       \"minister\"       \"says\"      \n",
       " \"country\"     \"economic\"       \"month\"     \n",
       " \"told\"        \"secretary\"      \"major\"     \n",
       " \"march\"       \"congress\"       \"currencies\""
      ]
     },
     "execution_count": 3,
     "metadata": {},
     "output_type": "execute_result"
    }
   ],
   "source": [
    "# top words in the topics\n",
    "nwords = 30\n",
    "topwords = Matrix{Any}(nwords, T)\n",
    "for itopic in 1:T\n",
    "    idx = sortperm(phi[:, itopic], rev=true)[1:nwords]\n",
    "    topwords[:, itopic] = dictionary[idx]\n",
    "end\n",
    "topwords"
   ]
  },
  {
   "cell_type": "markdown",
   "metadata": {},
   "source": [
    "#### Topics distributions for document `2`\n",
    "\n",
    "Seems to be correct (**crude** topic)\n",
    "\n",
    "*diamond shamrock dia cuts **crude** prices diamond shamrock corp said that effective today it had cut its contract prices for crude oil by **dlrs** a **barrel** the reduction brings its posted price for west texas intermediate to **dlrs** a **barrel** the copany said the price reduction today was made in the light of falling **oil** product prices and a weak **crude** **oil** market a company spokeswoman said diamond is the latest in a line of u s **oil** companies that have cut its contract or posted prices over the last two days citing weak **oil** markets reuter*"
   ]
  },
  {
   "cell_type": "code",
   "execution_count": 4,
   "metadata": {
    "collapsed": false
   },
   "outputs": [
    {
     "data": {
      "text/plain": [
       "3-element Array{Float64,1}:\n",
       " 0.984169  \n",
       " 0.00791557\n",
       " 0.00791557"
      ]
     },
     "execution_count": 4,
     "metadata": {},
     "output_type": "execute_result"
    }
   ],
   "source": [
    "theta[2, :]"
   ]
  },
  {
   "cell_type": "markdown",
   "metadata": {
    "collapsed": true
   },
   "source": [
    "### with T=10 topics\n",
    "\n",
    "doc `2` still correctly has most weight on the topic that seems related to **oil**"
   ]
  },
  {
   "cell_type": "code",
   "execution_count": 5,
   "metadata": {
    "collapsed": false
   },
   "outputs": [
    {
     "name": "stdout",
     "output_type": "stream",
     "text": [
      "iteration: 10, elapsed time: 23.54747986793518s\n",
      "iteration: 20, elapsed time: 48.257526874542236s\n",
      "iteration: 30, elapsed time: 74.9956419467926s\n",
      "iteration: 40, elapsed time: 99.66833901405334s\n",
      "iteration: 50, elapsed time: 126.61610984802246s\n",
      "iteration: 60, elapsed time: 154.38964891433716s\n",
      "iteration: 70, elapsed time: 181.1843400001526s\n",
      "iteration: 80, elapsed time: 206.21196794509888s\n",
      "iteration: 90, elapsed time: 236.28232502937317s\n",
      "iteration: 100, elapsed time: 268.20136404037476s\n"
     ]
    }
   ],
   "source": [
    "T = 10\n",
    "phi, theta = lda(document_matrix, alpha, beta, T,\n",
    "                    n_iter, verbose, seed);"
   ]
  },
  {
   "cell_type": "code",
   "execution_count": 6,
   "metadata": {
    "collapsed": false
   },
   "outputs": [
    {
     "data": {
      "text/plain": [
       "30×10 Array{Any,2}:\n",
       " \"japanese\"        \"prices\"      \"said\"        \"house\"           …  \"foreign\"        \"oil\"          \"exchange\"  \n",
       " \"trade\"           \"oil\"         \"reuter\"      \"reuter\"             \"trade\"          \"said\"         \"dollar\"    \n",
       " \"reuter\"          \"reuter\"      \"mln\"         \"president\"          \"told\"           \"reuter\"       \"reuter\"    \n",
       " \"japan\"           \"opec\"        \"billion\"     \"trade\"              \"countries\"      \"energy\"       \"rate\"      \n",
       " \"washington\"      \"said\"        \"bank\"        \"reagan\"             \"exports\"        \"pct\"          \"says\"      \n",
       " \"said\"            \"output\"      \"year\"        \"said\"            …  \"economic\"       \"new\"          \"rates\"     \n",
       " \"agreement\"       \"minister\"    \"market\"      \"administration\"     \"economy\"        \"gas\"          \"paris\"     \n",
       " \"officials\"       \"production\"  \"today\"       \"i\"                  \"dlrs\"           \"petroleum\"    \"said\"      \n",
       " \"pact\"            \"market\"      \"money\"       \"committee\"          \"export\"         \"exploration\"  \"nations\"   \n",
       " \"tokyo\"           \"saudi\"       \"pct\"         \"congress\"           \"debt\"           \"production\"   \"currencies\"\n",
       " \"week\"            \"price\"       \"total\"       \"chairman\"        …  \"said\"           \"year\"         \"currency\"  \n",
       " \"action\"          \"barrel\"      \"stg\"         \"legislation\"        \"cut\"            \"prices\"       \"treasury\"  \n",
       " \"april\"           \"day\"         \"england\"     \"united\"             \"government\"     \"mln\"          \"baker\"     \n",
       " \"states\"          \"december\"    \"deficit\"     \"states\"             \"reduce\"         \"corp\"         \"west\"      \n",
       " \"semiconductor\"   \"arabia\"      \"january\"     \"means\"              \"billion\"        \"barrels\"      \"trade\"     \n",
       " \"goods\"           \"crude\"       \"forecast\"    \"secretary\"       …  \"country\"        \"report\"       \"agreement\" \n",
       " \"markets\"         \"official\"    \"dlrs\"        \"open\"               \"development\"    \"tax\"          \"major\"     \n",
       " \"ministry\"        \"bpd\"         \"shortage\"    \"year\"               \"surplus\"        \"development\"  \"agreed\"    \n",
       " \"united\"          \"members\"     \"rose\"        \"way\"                \"international\"  \"years\"        \"japan\"     \n",
       " \"government\"      \"mln\"         \"trade\"       \"retaliation\"        \"domestic\"       \"dlrs\"         \"germany\"   \n",
       " \"minister\"        \"world\"       \"assistance\"  \"told\"            …  \"added\"          \"industry\"     \"monetary\"  \n",
       " \"reagan\"          \"meeting\"     \"exports\"     \"import\"             \"help\"           \"companies\"    \"accord\"    \n",
       " \"industry\"        \"ceiling\"     \"february\"    \"senate\"             \"year\"           \"higher\"       \"economic\"  \n",
       " \"year\"            \"dlrs\"        \"month\"       \"foreign\"            \"payments\"       \"study\"        \"finance\"   \n",
       " \"american\"        \"quota\"       \"imports\"     \"industry\"           \"reuter\"         \"increase\"     \"secretary\" \n",
       " \"stop\"            \"demand\"      \"surplus\"     \"policy\"          …  \"world\"          \"area\"         \"james\"     \n",
       " \"tariffs\"         \"countries\"   \"fell\"        \"countries\"          \"demand\"         \"domestic\"     \"stability\" \n",
       " \"semiconductors\"  \"barrels\"     \"compared\"    \"japan\"              \"investment\"     \"government\"   \"industrial\"\n",
       " \"dispute\"         \"agency\"      \"rise\"        \"major\"              \"remain\"         \"drilling\"     \"levels\"    \n",
       " \"official\"        \"february\"    \"revised\"     \"practices\"          \"growth\"         \"department\"   \"committee\" "
      ]
     },
     "execution_count": 6,
     "metadata": {},
     "output_type": "execute_result"
    }
   ],
   "source": [
    "topwords = Matrix{Any}(nwords, T)\n",
    "for itopic in 1:T\n",
    "    idx = sortperm(phi[:, itopic], rev=true)[1:nwords]\n",
    "    topwords[:, itopic] = dictionary[idx]\n",
    "end\n",
    "topwords"
   ]
  },
  {
   "cell_type": "code",
   "execution_count": 7,
   "metadata": {
    "collapsed": false
   },
   "outputs": [
    {
     "data": {
      "text/plain": [
       "10-element Array{Float64,1}:\n",
       " 0.0075\n",
       " 0.0075\n",
       " 0.0075\n",
       " 0.0075\n",
       " 0.0075\n",
       " 0.9325\n",
       " 0.0075\n",
       " 0.0075\n",
       " 0.0075\n",
       " 0.0075"
      ]
     },
     "execution_count": 7,
     "metadata": {},
     "output_type": "execute_result"
    }
   ],
   "source": [
    "theta[2, :]"
   ]
  },
  {
   "cell_type": "markdown",
   "metadata": {},
   "source": [
    "#### Most likely topic"
   ]
  },
  {
   "cell_type": "code",
   "execution_count": 12,
   "metadata": {
    "collapsed": false
   },
   "outputs": [
    {
     "data": {
      "text/plain": [
       "30-element Array{Any,1}:\n",
       " \"reuter\"   \n",
       " \"crude\"    \n",
       " \"oil\"      \n",
       " \"said\"     \n",
       " \"dlrs\"     \n",
       " \"company\"  \n",
       " \"day\"      \n",
       " \"today\"    \n",
       " \"barrels\"  \n",
       " \"mln\"      \n",
       " \"prices\"   \n",
       " \"petroleum\"\n",
       " \"march\"    \n",
       " \"bpd\"      \n",
       " \"west\"     \n",
       " \"state\"    \n",
       " \"corp\"     \n",
       " \"barrel\"   \n",
       " \"texas\"    \n",
       " \"effective\"\n",
       " \"cts\"      \n",
       " \"bbl\"      \n",
       " \"contract\" \n",
       " \"months\"   \n",
       " \"ecuador\"  \n",
       " \"venezuela\"\n",
       " \"energy\"   \n",
       " \"week\"     \n",
       " \"pipeline\" \n",
       " \"price\"    "
      ]
     },
     "execution_count": 12,
     "metadata": {},
     "output_type": "execute_result"
    }
   ],
   "source": [
    "topwords[:, 6]"
   ]
  },
  {
   "cell_type": "markdown",
   "metadata": {
    "collapsed": true
   },
   "source": [
    "## using LDA for feature extraction, for classificaton (using kNN)"
   ]
  },
  {
   "cell_type": "code",
   "execution_count": 17,
   "metadata": {
    "collapsed": false
   },
   "outputs": [
    {
     "name": "stdout",
     "output_type": "stream",
     "text": [
      "iteration: 10, elapsed time: 8.27159595489502s\n",
      "iteration: 20, elapsed time: 18.085965871810913s\n",
      "iteration: 30, elapsed time: 28.07868480682373s\n",
      "iteration: 40, elapsed time: 37.76651096343994s\n",
      "iteration: 50, elapsed time: 47.31500482559204s\n",
      "iteration: 60, elapsed time: 57.26273584365845s\n",
      "iteration: 70, elapsed time: 66.61199688911438s\n",
      "iteration: 80, elapsed time: 76.3161928653717s\n",
      "iteration: 90, elapsed time: 85.58695483207703s\n",
      "iteration: 100, elapsed time: 96.14471077919006s\n"
     ]
    }
   ],
   "source": [
    "phi_test, theta_test = lda(document_matrix_test, alpha, beta, T,\n",
    "                            n_iter, verbose, seed);"
   ]
  },
  {
   "cell_type": "markdown",
   "metadata": {},
   "source": [
    "gives a measly ~ 20 % correct classification rate"
   ]
  },
  {
   "cell_type": "code",
   "execution_count": 18,
   "metadata": {
    "collapsed": false
   },
   "outputs": [
    {
     "data": {
      "text/plain": [
       "0.18021201413427562"
      ]
     },
     "execution_count": 18,
     "metadata": {},
     "output_type": "execute_result"
    }
   ],
   "source": [
    "using Distributions\n",
    "using Distances\n",
    "\n",
    "function knn(Xtrain::AbstractArray, labels::AbstractVector,\n",
    "            Xquery::AbstractArray, k::Int)\n",
    "    # Simple brute force kNN\n",
    "    n_train = size(Xtrain, 1)\n",
    "    n_queries = size(Xquery, 1)\n",
    "    classification = zeros(Int, n_queries)\n",
    "\n",
    "    for q in 1:n_queries\n",
    "        dists = colwise(Euclidean(), Xtrain', Xquery[q, :])\n",
    "        topclasses = labels[sortperm(dists)[1:k]]\n",
    "        classification[q] = mode(topclasses)\n",
    "    end\n",
    "    \n",
    "    classification\n",
    "end\n",
    "\n",
    "classification = knn(theta, vec(gt), theta_test, 5);\n",
    "\n",
    "sum(classification .== gt_test) / length(gt_test)"
   ]
  },
  {
   "cell_type": "markdown",
   "metadata": {},
   "source": [
    "LDA is not an identifed model, the the topics may have been switched around in the two training passes (commonly known as label switching), so comparing the learned features directly doesn't make sense (though a distance metric is perfectly fine)\n",
    "\n",
    "This varies with different runs of the Gibbs sampler, suggesting sampling from the true posterior distribution is difficult...\n",
    "\n",
    "Looking at misclassified documents"
   ]
  },
  {
   "cell_type": "code",
   "execution_count": 19,
   "metadata": {
    "collapsed": false
   },
   "outputs": [
    {
     "data": {
      "text/plain": [
       "([1,19,30],[2,3,4])"
      ]
     },
     "execution_count": 19,
     "metadata": {},
     "output_type": "execute_result"
    }
   ],
   "source": [
    "find(classification .== gt_test)[1:3], find(classification .!= gt_test)[1:3]\n",
    "\n",
    "# etc"
   ]
  },
  {
   "cell_type": "markdown",
   "metadata": {},
   "source": [
    "# Deriving the update rules\n",
    "\n",
    "use Bayes rule and the conjugacy properties of the Dirichlet/Multinomial"
   ]
  }
 ],
 "metadata": {
  "kernelspec": {
   "display_name": "Julia 0.5.0",
   "language": "julia",
   "name": "julia-0.5"
  },
  "language_info": {
   "file_extension": ".jl",
   "mimetype": "application/julia",
   "name": "julia",
   "version": "0.5.0"
  }
 },
 "nbformat": 4,
 "nbformat_minor": 1
}
