{
 "cells": [
  {
   "cell_type": "markdown",
   "metadata": {},
   "source": [
    "## LDA with collapsed Gibbs sampling"
   ]
  },
  {
   "cell_type": "code",
   "execution_count": 1,
   "metadata": {
    "collapsed": false
   },
   "outputs": [
    {
     "data": {
      "text/plain": [
       "0"
      ]
     },
     "execution_count": 1,
     "metadata": {},
     "output_type": "execute_result"
    }
   ],
   "source": [
    "include(\"src/lda.jl\")\n",
    "ENV[\"LINES\"] = 40\n",
    "ENV[\"COLUMNS\"] = 120\n",
    "\n",
    "dictfile = \"data/R3_all_Dictionary.txt\"\n",
    "documentfile = \"data/R3-trn-all_run.txt\" \n",
    "gtfile = \"data/R3-Label.txt\"\n",
    "documentfile_test = \"data/R3-tst-all_run.txt\"\n",
    "gtfile_test = \"data/R3-GT.txt\"\n",
    "\n",
    "gt = readdlm(gtfile, Int64)\n",
    "document_matrix, dictionary = ldac2docterm(dictfile, documentfile);\n",
    "document_matrix_test, _ = ldac2docterm(dictfile, documentfile_test);\n",
    "gt_test = readdlm(gtfile_test, Int64)\n",
    "\n",
    "# Remove all stopwords\n",
    "include(\"src/stopwords.jl\")\n",
    "stopwords = findin(dictionary, stopwords)\n",
    "document_matrix[:, stopwords] = 0\n",
    "document_matrix_test[:, stopwords] = 0"
   ]
  },
  {
   "cell_type": "markdown",
   "metadata": {},
   "source": [
    "#### Run with T=3 topics"
   ]
  },
  {
   "cell_type": "code",
   "execution_count": 5,
   "metadata": {
    "collapsed": false
   },
   "outputs": [
    {
     "name": "stdout",
     "output_type": "stream",
     "text": [
      "iteration: 10, elapsed time: 12.101094961166382s\n",
      "iteration: 20, elapsed time: 25.0362651348114s\n",
      "iteration: 30, elapsed time: 37.8934850692749s\n",
      "iteration: 40, elapsed time: 50.713765144348145s\n",
      "iteration: 50, elapsed time: 62.77731800079346s\n",
      "iteration: 60, elapsed time: 77.1285560131073s\n",
      "iteration: 70, elapsed time: 90.05349802970886s\n",
      "iteration: 80, elapsed time: 103.11226201057434s\n",
      "iteration: 90, elapsed time: 117.32974410057068s\n",
      "iteration: 100, elapsed time: 132.2751760482788s\n"
     ]
    }
   ],
   "source": [
    "n_iter = 100\n",
    "verbose = true\n",
    "seed = 1234\n",
    "\n",
    "alpha = 0.3\n",
    "beta = 0.3\n",
    "T = 3\n",
    "phi, theta = lda(document_matrix, alpha, beta, T,\n",
    "                    n_iter, verbose, seed);"
   ]
  },
  {
   "cell_type": "markdown",
   "metadata": {},
   "source": [
    "### Top 30 words in the 3 topics"
   ]
  },
  {
   "cell_type": "code",
   "execution_count": 7,
   "metadata": {
    "collapsed": false
   },
   "outputs": [
    {
     "data": {
      "text/plain": [
       "30×3 Array{Any,2}:\n",
       " \"oil\"         \"reuter\"    \"trade\"        \n",
       " \"said\"        \"said\"      \"reuter\"       \n",
       " \"reuter\"      \"market\"    \"said\"         \n",
       " \"dlrs\"        \"bank\"      \"united\"       \n",
       " \"prices\"      \"exchange\"  \"states\"       \n",
       " \"crude\"       \"mln\"       \"japan\"        \n",
       " \"mln\"         \"billion\"   \"told\"         \n",
       " \"year\"        \"dollar\"    \"agreement\"    \n",
       " \"pct\"         \"today\"     \"countries\"    \n",
       " \"barrels\"     \"pct\"       \"japanese\"     \n",
       " \"petroleum\"   \"treasury\"  \"year\"         \n",
       " \"day\"         \"currency\"  \"foreign\"      \n",
       " \"energy\"      \"rate\"      \"tariffs\"      \n",
       " \"company\"     \"money\"     \"international\"\n",
       " \"production\"  \"trade\"     \"reagan\"       \n",
       " \"opec\"        \"major\"     \"washington\"   \n",
       " \"barrel\"      \"foreign\"   \"house\"        \n",
       " \"price\"       \"rates\"     \"world\"        \n",
       " \"corp\"        \"official\"  \"cut\"          \n",
       " \"bpd\"         \"says\"      \"goods\"        \n",
       " \"dlr\"         \"central\"   \"minister\"     \n",
       " \"today\"       \"year\"      \"president\"    \n",
       " \"country\"     \"economic\"  \"industry\"     \n",
       " \"exports\"     \"told\"      \"general\"      \n",
       " \"output\"      \"current\"   \"officials\"    \n",
       " \"minister\"    \"deficit\"   \"markets\"      \n",
       " \"march\"       \"stg\"       \"government\"   \n",
       " \"state\"       \"nations\"   \"talks\"        \n",
       " \"expected\"    \"markets\"   \"new\"          \n",
       " \"new\"         \"help\"      \"added\"        "
      ]
     },
     "execution_count": 7,
     "metadata": {},
     "output_type": "execute_result"
    }
   ],
   "source": [
    "# top words in the topics\n",
    "nwords = 30\n",
    "topwords = Matrix{Any}(nwords, T)\n",
    "for itopic in 1:T\n",
    "    idx = sortperm(phi[:, itopic], rev=true)[1:nwords]\n",
    "    topwords[:, itopic] = dictionary[idx]\n",
    "end\n",
    "topwords"
   ]
  },
  {
   "cell_type": "markdown",
   "metadata": {},
   "source": [
    "#### Topics distributions for document `2`\n",
    "\n",
    "Seems to be correct (**crude** topic)\n",
    "\n",
    "*diamond shamrock dia cuts **crude** prices diamond shamrock corp said that effective today it had cut its contract prices for crude oil by **dlrs** a **barrel** the reduction brings its posted price for west texas intermediate to **dlrs** a **barrel** the copany said the price reduction today was made in the light of falling **oil** product prices and a weak **crude** **oil** market a company spokeswoman said diamond is the latest in a line of u s **oil** companies that have cut its contract or posted prices over the last two days citing weak **oil** markets reuter*"
   ]
  },
  {
   "cell_type": "code",
   "execution_count": 10,
   "metadata": {
    "collapsed": false
   },
   "outputs": [
    {
     "data": {
      "text/plain": [
       "3-element Array{Float64,1}:\n",
       " 0.984169  \n",
       " 0.00791557\n",
       " 0.00791557"
      ]
     },
     "execution_count": 10,
     "metadata": {},
     "output_type": "execute_result"
    }
   ],
   "source": [
    "theta[2, :]"
   ]
  },
  {
   "cell_type": "markdown",
   "metadata": {
    "collapsed": true
   },
   "source": [
    "### with T=10 topics\n",
    "\n",
    "doc `2` still correctly has most weight on the topic that seems related to **oil**"
   ]
  },
  {
   "cell_type": "code",
   "execution_count": 11,
   "metadata": {
    "collapsed": false
   },
   "outputs": [
    {
     "name": "stdout",
     "output_type": "stream",
     "text": [
      "iteration: 10, elapsed time: 31.26441192626953s\n",
      "iteration: 20, elapsed time: 66.99765205383301s\n",
      "iteration: 30, elapsed time: 99.31763696670532s\n",
      "iteration: 40, elapsed time: 133.38119292259216s\n",
      "iteration: 50, elapsed time: 172.10296392440796s\n",
      "iteration: 60, elapsed time: 213.97391295433044s\n",
      "iteration: 70, elapsed time: 250.41037797927856s\n",
      "iteration: 80, elapsed time: 287.52402997016907s\n",
      "iteration: 90, elapsed time: 325.1246690750122s\n",
      "iteration: 100, elapsed time: 361.62379002571106s\n"
     ]
    }
   ],
   "source": [
    "T = 10\n",
    "phi, theta = lda(document_matrix, alpha, beta, T,\n",
    "                    n_iter, verbose, seed);"
   ]
  },
  {
   "cell_type": "code",
   "execution_count": 25,
   "metadata": {
    "collapsed": false
   },
   "outputs": [
    {
     "data": {
      "text/plain": [
       "30×10 Array{Any,2}:\n",
       " \"exchange\"    \"year\"        \"trade\"           \"oil\"          …  \"opec\"        \"agreement\"       \"said\"      \n",
       " \"currency\"    \"said\"        \"house\"           \"pct\"             \"oil\"         \"trade\"           \"reuter\"    \n",
       " \"dollar\"      \"reuter\"      \"said\"            \"said\"            \"minister\"    \"general\"         \"market\"    \n",
       " \"new\"         \"billion\"     \"i\"               \"prices\"          \"day\"         \"reuter\"          \"bank\"      \n",
       " \"rate\"        \"mln\"         \"reuter\"          \"reuter\"          \"said\"        \"talks\"           \"today\"     \n",
       " \"bank\"        \"dlrs\"        \"committee\"       \"tax\"          …  \"barrels\"     \"said\"            \"mln\"       \n",
       " \"major\"       \"trade\"       \"administration\"  \"industry\"        \"prices\"      \"meeting\"         \"money\"     \n",
       " \"financial\"   \"exports\"     \"reagan\"          \"domestic\"        \"reuter\"      \"countries\"       \"treasury\"  \n",
       " \"banks\"       \"pct\"         \"congress\"        \"energy\"          \"market\"      \"european\"        \"stg\"       \n",
       " \"market\"      \"month\"       \"think\"           \"petroleum\"       \"output\"      \"community\"       \"exchange\"  \n",
       " \"monetary\"    \"total\"       \"countries\"       \"government\"   …  \"energy\"      \"minister\"        \"england\"   \n",
       " \"reuter\"      \"january\"     \"president\"       \"increase\"        \"mln\"         \"gatt\"            \"rates\"     \n",
       " \"markets\"     \"fell\"        \"secretary\"       \"gas\"             \"bpd\"         \"told\"            \"says\"      \n",
       " \"trading\"     \"rose\"        \"chairman\"        \"new\"             \"crude\"       \"world\"           \"paris\"     \n",
       " \"foreign\"     \"imports\"     \"legislation\"     \"study\"           \"production\"  \"tariffs\"         \"shortage\"  \n",
       " \"west\"        \"february\"    \"told\"            \"report\"       …  \"quota\"       \"ministers\"       \"currency\"  \n",
       " \"fund\"        \"march\"       \"week\"            \"year\"            \"official\"    \"new\"             \"nations\"   \n",
       " \"government\"  \"compared\"    \"senate\"          \"companies\"       \"ecuador\"     \"ec\"              \"central\"   \n",
       " \"central\"     \"average\"     \"states\"          \"years\"           \"barrel\"      \"yeutter\"         \"agreed\"    \n",
       " \"currencies\"  \"figures\"     \"foreign\"         \"rate\"            \"saudi\"       \"round\"           \"assistance\"\n",
       " \"week\"        \"state\"       \"retaliation\"     \"mln\"          …  \"members\"     \"negotiations\"    \"bills\"     \n",
       " \"long\"        \"government\"  \"unfair\"          \"development\"     \"price\"       \"representative\"  \"currencies\"\n",
       " \"german\"      \"bank\"        \"year\"            \"time\"            \"dlrs\"        \"states\"          \"forecast\"  \n",
       " \"president\"   \"expected\"    \"import\"          \"production\"      \"member\"      \"year\"            \"japan\"     \n",
       " \"mark\"        \"end\"         \"policy\"          \"higher\"          \"meeting\"     \"international\"   \"rate\"      \n",
       " \"sources\"     \"period\"      \"cut\"             \"foreign\"      …  \"december\"    \"major\"           \"dollar\"    \n",
       " \"set\"         \"foreign\"     \"markets\"         \"told\"            \"told\"        \"clayton\"         \"baker\"     \n",
       " \"dollars\"     \"dollar\"      \"ways\"            \"conference\"      \"venezuela\"   \"informal\"        \"agreement\" \n",
       " \"sold\"        \"dlr\"         \"japan\"           \"current\"         \"ceiling\"     \"nations\"         \"reserve\"   \n",
       " \"rates\"       \"months\"      \"products\"        \"country\"         \"arabia\"      \"years\"           \"deficit\"   "
      ]
     },
     "execution_count": 25,
     "metadata": {},
     "output_type": "execute_result"
    }
   ],
   "source": [
    "topwords = Matrix{Any}(nwords, T)\n",
    "for itopic in 1:T\n",
    "    idx = sortperm(phi[:, itopic], rev=true)[1:nwords]\n",
    "    topwords[:, itopic] = dictionary[idx]\n",
    "end\n",
    "topwords"
   ]
  },
  {
   "cell_type": "code",
   "execution_count": 26,
   "metadata": {
    "collapsed": false
   },
   "outputs": [
    {
     "data": {
      "text/plain": [
       "10-element Array{Float64,1}:\n",
       " 0.0075\n",
       " 0.1825\n",
       " 0.0575\n",
       " 0.0075\n",
       " 0.7075\n",
       " 0.0075\n",
       " 0.0075\n",
       " 0.0075\n",
       " 0.0075\n",
       " 0.0075"
      ]
     },
     "execution_count": 26,
     "metadata": {},
     "output_type": "execute_result"
    }
   ],
   "source": [
    "theta[2, :]"
   ]
  },
  {
   "cell_type": "markdown",
   "metadata": {},
   "source": [
    "#### Most likely topic"
   ]
  },
  {
   "cell_type": "code",
   "execution_count": 27,
   "metadata": {
    "collapsed": false
   },
   "outputs": [
    {
     "data": {
      "text/plain": [
       "30-element Array{Any,1}:\n",
       " \"oil\"      \n",
       " \"reuter\"   \n",
       " \"said\"     \n",
       " \"crude\"    \n",
       " \"dlrs\"     \n",
       " \"company\"  \n",
       " \"corp\"     \n",
       " \"petroleum\"\n",
       " \"barrel\"   \n",
       " \"price\"    \n",
       " \"prices\"   \n",
       " \"today\"    \n",
       " \"west\"     \n",
       " \"effective\"\n",
       " \"texas\"    \n",
       " \"cts\"      \n",
       " \"bbl\"      \n",
       " \"canada\"   \n",
       " \"barrels\"  \n",
       " \"day\"      \n",
       " \"unit\"     \n",
       " \"raises\"   \n",
       " \"refinery\" \n",
       " \"pct\"      \n",
       " \"contract\" \n",
       " \"posted\"   \n",
       " \"march\"    \n",
       " \"pay\"      \n",
       " \"raised\"   \n",
       " \"canadian\" "
      ]
     },
     "execution_count": 27,
     "metadata": {},
     "output_type": "execute_result"
    }
   ],
   "source": [
    "topwords[:, 5]"
   ]
  },
  {
   "cell_type": "markdown",
   "metadata": {
    "collapsed": true
   },
   "source": [
    "## using LDA for feature extraction, for classificaton (using kNN)"
   ]
  },
  {
   "cell_type": "code",
   "execution_count": 35,
   "metadata": {
    "collapsed": false
   },
   "outputs": [
    {
     "name": "stdout",
     "output_type": "stream",
     "text": [
      "iteration: 10, elapsed time: 9.880680084228516s\n",
      "iteration: 20, elapsed time: 21.244205951690674s\n",
      "iteration: 30, elapsed time: 31.501085996627808s\n",
      "iteration: 40, elapsed time: 42.36569690704346s\n",
      "iteration: 50, elapsed time: 54.194780111312866s\n",
      "iteration: 60, elapsed time: 65.42524409294128s\n",
      "iteration: 70, elapsed time: 78.56971597671509s\n",
      "iteration: 80, elapsed time: 95.10010290145874s\n",
      "iteration: 90, elapsed time: 108.33162498474121s\n",
      "iteration: 100, elapsed time: 123.0820939540863s\n"
     ]
    }
   ],
   "source": [
    "phi_train, theta_train = lda(document_matrix_test, alpha, beta, T,\n",
    "                            n_iter, verbose, seed);"
   ]
  },
  {
   "cell_type": "markdown",
   "metadata": {},
   "source": [
    "does not give much more than a 50 % correct classification rate"
   ]
  },
  {
   "cell_type": "code",
   "execution_count": 134,
   "metadata": {
    "collapsed": false
   },
   "outputs": [
    {
     "data": {
      "text/plain": [
       "0.5512367491166078"
      ]
     },
     "execution_count": 134,
     "metadata": {},
     "output_type": "execute_result"
    }
   ],
   "source": [
    "#### using Distributions\n",
    "using Distances\n",
    "\n",
    "function kNN(Xtrain::AbstractArray, labels::AbstractVector,\n",
    "            Xquery::AbstractArray, k::Int)\n",
    "    # Simple brute force kNN\n",
    "    n_train = size(Xtrain, 1)\n",
    "    n_queries = size(Xquery, 1)\n",
    "    classification = zeros(Int, n_queries)\n",
    "\n",
    "    for q in 1:n_queries\n",
    "        dists = colwise(Euclidean(), Xtrain', Xquery[q, :])\n",
    "        topclasses = labels[sortperm(dists)[1:k]]\n",
    "        classification[q] = mode(topclasses)\n",
    "    end\n",
    "    \n",
    "    classification\n",
    "end\n",
    "\n",
    "classification = kNN(theta, vec(gt), theta_train, 5);\n",
    "\n",
    "sum(classification .== gt_test) / length(gt_test)"
   ]
  },
  {
   "cell_type": "markdown",
   "metadata": {},
   "source": [
    "LDA is not an identifed model, the the topics may have been switched around in the two training passes (commonly known as label switching) and the distance metric is not comparing apples with apples...\n",
    "\n",
    "Looking at misclassified documents"
   ]
  },
  {
   "cell_type": "code",
   "execution_count": 135,
   "metadata": {
    "collapsed": false
   },
   "outputs": [
    {
     "data": {
      "text/plain": [
       "([1,2,3],[15,18,20])"
      ]
     },
     "execution_count": 135,
     "metadata": {},
     "output_type": "execute_result"
    }
   ],
   "source": [
    "find(classification .== gt_test)[1:3], find(classification .!= gt_test)[1:3]\n",
    "\n",
    "# etc"
   ]
  },
  {
   "cell_type": "markdown",
   "metadata": {},
   "source": [
    "# Deriving the update rules\n",
    "\n",
    "Just use Bayes rule and the conjugacy properties of the Dirichlet/Multinomial"
   ]
  }
 ],
 "metadata": {
  "kernelspec": {
   "display_name": "Julia 0.5.0",
   "language": "julia",
   "name": "julia-0.5"
  },
  "language_info": {
   "file_extension": ".jl",
   "mimetype": "application/julia",
   "name": "julia",
   "version": "0.5.0"
  }
 },
 "nbformat": 4,
 "nbformat_minor": 1
}
