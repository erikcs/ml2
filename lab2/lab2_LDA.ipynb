{
 "cells": [
  {
   "cell_type": "markdown",
   "metadata": {},
   "source": [
    "## LDA with collapsed Gibbs sampling"
   ]
  },
  {
   "cell_type": "code",
   "execution_count": 1,
   "metadata": {
    "collapsed": false
   },
   "outputs": [
    {
     "data": {
      "text/plain": [
       "0"
      ]
     },
     "execution_count": 1,
     "metadata": {},
     "output_type": "execute_result"
    }
   ],
   "source": [
    "include(\"src/lda.jl\")\n",
    "ENV[\"LINES\"] = 40\n",
    "ENV[\"COLUMNS\"] = 120\n",
    "\n",
    "dictfile = \"data/R3_all_Dictionary.txt\"\n",
    "documentfile = \"data/R3-trn-all_run.txt\" \n",
    "gtfile = \"data/R3-Label.txt\"\n",
    "documentfile_test = \"data/R3-tst-all_run.txt\"\n",
    "gtfile_test = \"data/R3-GT.txt\"\n",
    "\n",
    "gt = readdlm(gtfile, Int64)\n",
    "document_matrix, dictionary = ldac2docterm(dictfile, documentfile);\n",
    "document_matrix_test, _ = ldac2docterm(dictfile, documentfile_test);\n",
    "gt_test = readdlm(gtfile_test, Int64)\n",
    "\n",
    "# Remove all stopwords\n",
    "include(\"src/stopwords.jl\")\n",
    "stopwords = findin(dictionary, stopwords)\n",
    "document_matrix[:, stopwords] = 0\n",
    "document_matrix_test[:, stopwords] = 0"
   ]
  },
  {
   "cell_type": "markdown",
   "metadata": {},
   "source": [
    "#### Run with T=3 topics"
   ]
  },
  {
   "cell_type": "code",
   "execution_count": 2,
   "metadata": {
    "collapsed": false
   },
   "outputs": [
    {
     "name": "stdout",
     "output_type": "stream",
     "text": [
      "iteration: 50, elapsed time:9.78s\n",
      "iteration: 100, elapsed time:20.53s\n",
      "iteration: 150, elapsed time:30.98s\n",
      "iteration: 200, elapsed time:44.26s\n",
      "iteration: 250, elapsed time:55.12s\n",
      "iteration: 300, elapsed time:66.17s\n",
      "iteration: 350, elapsed time:77.38s\n",
      "iteration: 400, elapsed time:89.08s\n",
      "iteration: 450, elapsed time:103.58s\n",
      "iteration: 500, elapsed time:114.42s\n",
      "iteration: 550, elapsed time:125.73s\n",
      "iteration: 600, elapsed time:136.40s\n",
      "iteration: 650, elapsed time:147.04s\n",
      "iteration: 700, elapsed time:159.08s\n",
      "iteration: 750, elapsed time:170.44s\n",
      "iteration: 800, elapsed time:184.00s\n",
      "iteration: 850, elapsed time:194.88s\n",
      "iteration: 900, elapsed time:205.03s\n",
      "iteration: 950, elapsed time:214.92s\n",
      "iteration: 1000, elapsed time:224.77s\n"
     ]
    }
   ],
   "source": [
    "n_iter = 1000\n",
    "verbose = true\n",
    "seed = 1234\n",
    "\n",
    "alpha = 0.3\n",
    "beta = 0.3\n",
    "T = 3\n",
    "phi, theta = lda(document_matrix, alpha, beta, T,\n",
    "                    n_iter, verbose, seed);"
   ]
  },
  {
   "cell_type": "markdown",
   "metadata": {},
   "source": [
    "### Top 30 words in the 3 topics"
   ]
  },
  {
   "cell_type": "code",
   "execution_count": 3,
   "metadata": {
    "collapsed": false
   },
   "outputs": [
    {
     "data": {
      "text/plain": [
       "30×3 Array{Any,2}:\n",
       " \"reuter\"         \"period\"       \"lagging\"    \n",
       " \"said\"           \"jumps\"        \"rights\"     \n",
       " \"trade\"          \"storage\"      \"offer\"      \n",
       " \"year\"           \"opt\"          \"putting\"    \n",
       " \"mln\"            \"peaked\"       \"lifters\"    \n",
       " \"dlrs\"           \"activation\"   \"attendance\" \n",
       " \"oil\"            \"adhere\"       \"reversed\"   \n",
       " \"market\"         \"bulk\"         \"detente\"    \n",
       " \"pct\"            \"fruitful\"     \"mmi\"        \n",
       " \"told\"           \"joaquin\"      \"expiring\"   \n",
       " \"billion\"        \"infant\"       \"patricio\"   \n",
       " \"foreign\"        \"condensates\"  \"streamlined\"\n",
       " \"today\"          \"edouard\"      \"pciac\"      \n",
       " \"bank\"           \"marckraq\"     \"packaging\"  \n",
       " \"agreement\"      \"phyllis\"      \"lobbies\"    \n",
       " \"prices\"         \"brazil\"       \"seas\"       \n",
       " \"countries\"      \"anti\"         \"entity\"     \n",
       " \"japan\"          \"inflation\"    \"benefitted\" \n",
       " \"government\"     \"plan\"         \"variable\"   \n",
       " \"new\"            \"limps\"        \"connections\"\n",
       " \"minister\"       \"to\"           \"downgrading\"\n",
       " \"states\"         \"anniversary\"  \"courted\"    \n",
       " \"united\"         \"initially\"    \"achieves\"   \n",
       " \"official\"       \"hailed\"       \"lebanese\"   \n",
       " \"international\"  \"at\"           \"weakest\"    \n",
       " \"economic\"       \"home\"         \"oversee\"    \n",
       " \"crude\"          \"and\"          \"duchesne\"   \n",
       " \"week\"           \"abroad\"       \"brazil\"     \n",
       " \"exports\"        \"as\"           \"anti\"       \n",
       " \"added\"          \"the\"          \"inflation\"  "
      ]
     },
     "execution_count": 3,
     "metadata": {},
     "output_type": "execute_result"
    }
   ],
   "source": [
    "# top words in the topics\n",
    "nwords = 30\n",
    "topwords = Matrix{Any}(nwords, T)\n",
    "for itopic in 1:T\n",
    "    idx = sortperm(phi[:, itopic], rev=true)[1:nwords]\n",
    "    topwords[:, itopic] = dictionary[idx]\n",
    "end\n",
    "topwords"
   ]
  },
  {
   "cell_type": "markdown",
   "metadata": {},
   "source": [
    "#### Topics distributions for document `2`\n",
    "\n",
    "Seems to be correct (**crude** topic)\n",
    "\n",
    "*diamond shamrock dia cuts **crude** prices diamond shamrock corp said that effective today it had cut its contract prices for crude oil by **dlrs** a **barrel** the reduction brings its posted price for west texas intermediate to **dlrs** a **barrel** the copany said the price reduction today was made in the light of falling **oil** product prices and a weak **crude** **oil** market a company spokeswoman said diamond is the latest in a line of u s **oil** companies that have cut its contract or posted prices over the last two days citing weak **oil** markets reuter*"
   ]
  },
  {
   "cell_type": "code",
   "execution_count": 4,
   "metadata": {
    "collapsed": false
   },
   "outputs": [
    {
     "data": {
      "text/plain": [
       "3-element Array{Float64,1}:\n",
       " 0.984169  \n",
       " 0.00791557\n",
       " 0.00791557"
      ]
     },
     "execution_count": 4,
     "metadata": {},
     "output_type": "execute_result"
    }
   ],
   "source": [
    "theta[2, :]"
   ]
  },
  {
   "cell_type": "markdown",
   "metadata": {
    "collapsed": true
   },
   "source": [
    "### with T=10 topics\n",
    "\n",
    "doc `2` still correctly has most weight on the topic that seems related to **oil**"
   ]
  },
  {
   "cell_type": "code",
   "execution_count": 5,
   "metadata": {
    "collapsed": false
   },
   "outputs": [
    {
     "name": "stdout",
     "output_type": "stream",
     "text": [
      "iteration: 50, elapsed time:12.09s\n",
      "iteration: 100, elapsed time:26.91s\n",
      "iteration: 150, elapsed time:41.61s\n",
      "iteration: 200, elapsed time:53.39s\n",
      "iteration: 250, elapsed time:66.55s\n",
      "iteration: 300, elapsed time:78.74s\n",
      "iteration: 350, elapsed time:91.10s\n",
      "iteration: 400, elapsed time:106.31s\n",
      "iteration: 450, elapsed time:120.65s\n",
      "iteration: 500, elapsed time:134.13s\n",
      "iteration: 550, elapsed time:146.00s\n",
      "iteration: 600, elapsed time:158.20s\n",
      "iteration: 650, elapsed time:169.92s\n",
      "iteration: 700, elapsed time:182.10s\n",
      "iteration: 750, elapsed time:196.68s\n",
      "iteration: 800, elapsed time:208.93s\n",
      "iteration: 850, elapsed time:221.82s\n",
      "iteration: 900, elapsed time:238.98s\n",
      "iteration: 950, elapsed time:254.51s\n",
      "iteration: 1000, elapsed time:267.56s\n"
     ]
    }
   ],
   "source": [
    "T = 10\n",
    "phi, theta = lda(document_matrix, alpha, beta, T,\n",
    "                    n_iter, verbose, seed);"
   ]
  },
  {
   "cell_type": "code",
   "execution_count": 6,
   "metadata": {
    "collapsed": false
   },
   "outputs": [
    {
     "data": {
      "text/plain": [
       "30×10 Array{Any,2}:\n",
       " \"program\"      \"attract\"        \"relieving\"      \"reuter\"         …  \"laws\"           \"period\"       \"lagging\"    \n",
       " \"ends\"         \"suspension\"     \"doha\"           \"said\"              \"murphy\"         \"jumps\"        \"rights\"     \n",
       " \"herman\"       \"minimizing\"     \"cheap\"          \"trade\"             \"portion\"        \"storage\"      \"offer\"      \n",
       " \"francisco\"    \"hugo\"           \"whitehall\"      \"year\"              \"srb\"            \"opt\"          \"putting\"    \n",
       " \"satisfy\"      \"modestly\"       \"morocco\"        \"mln\"               \"khatib\"         \"peaked\"       \"lifters\"    \n",
       " \"appoints\"     \"conglomerate\"   \"frequently\"     \"dlrs\"           …  \"permitting\"     \"activation\"   \"attendance\" \n",
       " \"overall\"      \"republican\"     \"directly\"       \"oil\"               \"endorsed\"       \"adhere\"       \"reversed\"   \n",
       " \"corporation\"  \"placement\"      \"presidential\"   \"market\"            \"distorting\"     \"bulk\"         \"detente\"    \n",
       " \"chancellor\"   \"holders\"        \"pbt\"            \"pct\"               \"psychological\"  \"joaquin\"      \"mmi\"        \n",
       " \"geared\"       \"anytime\"        \"night\"          \"told\"              \"fruitful\"       \"infant\"       \"expiring\"   \n",
       " \"winners\"      \"delegations\"    \"brass\"          \"billion\"        …  \"goodyear\"       \"condensates\"  \"patricio\"   \n",
       " \"hair\"         \"prospecting\"    \"foundation\"     \"foreign\"           \"launches\"       \"edouard\"      \"streamlined\"\n",
       " \"siew\"         \"uniform\"        \"injecting\"      \"today\"             \"overturned\"     \"marckraq\"     \"pciac\"      \n",
       " \"orginal\"      \"arnold\"         \"inspections\"    \"bank\"              \"circulating\"    \"phyllis\"      \"packaging\"  \n",
       " \"plains\"       \"dedramatising\"  \"merge\"          \"agreement\"         \"judy\"           \"brazil\"       \"lobbies\"    \n",
       " \"domenici\"     \"brazil\"         \"chernobyl\"      \"prices\"         …  \"gorbachev\"      \"anti\"         \"seas\"       \n",
       " \"tro\"          \"anti\"           \"laiohe\"         \"countries\"         \"hosting\"        \"inflation\"    \"entity\"     \n",
       " \"naturally\"    \"inflation\"      \"prauge\"         \"japan\"             \"attributable\"   \"plan\"         \"benefitted\" \n",
       " \"diversity\"    \"plan\"           \"northermost\"    \"government\"        \"brazil\"         \"limps\"        \"variable\"   \n",
       " \"guidepost\"    \"limps\"          \"valley\"         \"new\"               \"anti\"           \"to\"           \"connections\"\n",
       " \"restricting\"  \"to\"             \"progressively\"  \"minister\"       …  \"inflation\"      \"anniversary\"  \"downgrading\"\n",
       " \"stricken\"     \"anniversary\"    \"agreeement\"     \"states\"            \"plan\"           \"initially\"    \"courted\"    \n",
       " \"outspoken\"    \"initially\"      \"ecus\"           \"united\"            \"limps\"          \"hailed\"       \"achieves\"   \n",
       " \"fraud\"        \"hailed\"         \"shock\"          \"official\"          \"to\"             \"at\"           \"lebanese\"   \n",
       " \"friendly\"     \"at\"             \"brazil\"         \"international\"     \"anniversary\"    \"home\"         \"weakest\"    \n",
       " \"royalties\"    \"home\"           \"anti\"           \"economic\"       …  \"initially\"      \"and\"          \"oversee\"    \n",
       " \"sago\"         \"and\"            \"inflation\"      \"crude\"             \"hailed\"         \"abroad\"       \"duchesne\"   \n",
       " \"monopolar\"    \"abroad\"         \"plan\"           \"week\"              \"at\"             \"as\"           \"brazil\"     \n",
       " \"brazil\"       \"as\"             \"limps\"          \"exports\"           \"home\"           \"the\"          \"anti\"       \n",
       " \"anti\"         \"the\"            \"to\"             \"added\"             \"and\"            \"saviour\"      \"inflation\"  "
      ]
     },
     "execution_count": 6,
     "metadata": {},
     "output_type": "execute_result"
    }
   ],
   "source": [
    "topwords = Matrix{Any}(nwords, T)\n",
    "for itopic in 1:T\n",
    "    idx = sortperm(phi[:, itopic], rev=true)[1:nwords]\n",
    "    topwords[:, itopic] = dictionary[idx]\n",
    "end\n",
    "topwords"
   ]
  },
  {
   "cell_type": "code",
   "execution_count": 7,
   "metadata": {
    "collapsed": false
   },
   "outputs": [
    {
     "data": {
      "text/plain": [
       "10-element Array{Float64,1}:\n",
       " 0.0075\n",
       " 0.0075\n",
       " 0.0075\n",
       " 0.9325\n",
       " 0.0075\n",
       " 0.0075\n",
       " 0.0075\n",
       " 0.0075\n",
       " 0.0075\n",
       " 0.0075"
      ]
     },
     "execution_count": 7,
     "metadata": {},
     "output_type": "execute_result"
    }
   ],
   "source": [
    "theta[2, :]"
   ]
  },
  {
   "cell_type": "markdown",
   "metadata": {},
   "source": [
    "#### Most likely topic"
   ]
  },
  {
   "cell_type": "code",
   "execution_count": 12,
   "metadata": {
    "collapsed": false
   },
   "outputs": [
    {
     "data": {
      "text/plain": [
       "30-element Array{Any,1}:\n",
       " \"reuter\"       \n",
       " \"said\"         \n",
       " \"trade\"        \n",
       " \"year\"         \n",
       " \"mln\"          \n",
       " \"dlrs\"         \n",
       " \"oil\"          \n",
       " \"market\"       \n",
       " \"pct\"          \n",
       " \"told\"         \n",
       " \"billion\"      \n",
       " \"foreign\"      \n",
       " \"today\"        \n",
       " \"bank\"         \n",
       " \"agreement\"    \n",
       " \"prices\"       \n",
       " \"countries\"    \n",
       " \"japan\"        \n",
       " \"government\"   \n",
       " \"new\"          \n",
       " \"minister\"     \n",
       " \"states\"       \n",
       " \"united\"       \n",
       " \"official\"     \n",
       " \"international\"\n",
       " \"economic\"     \n",
       " \"crude\"        \n",
       " \"week\"         \n",
       " \"exports\"      \n",
       " \"added\"        "
      ]
     },
     "execution_count": 12,
     "metadata": {},
     "output_type": "execute_result"
    }
   ],
   "source": [
    "topwords[:, 4]"
   ]
  },
  {
   "cell_type": "markdown",
   "metadata": {
    "collapsed": true
   },
   "source": [
    "## using LDA for feature extraction, for classificaton (using kNN)"
   ]
  },
  {
   "cell_type": "code",
   "execution_count": 9,
   "metadata": {
    "collapsed": false
   },
   "outputs": [
    {
     "name": "stdout",
     "output_type": "stream",
     "text": [
      "iteration: 50, elapsed time:5.34s\n",
      "iteration: 100, elapsed time:9.62s\n",
      "iteration: 150, elapsed time:13.80s\n",
      "iteration: 200, elapsed time:17.97s\n",
      "iteration: 250, elapsed time:22.17s\n",
      "iteration: 300, elapsed time:26.33s\n",
      "iteration: 350, elapsed time:30.67s\n",
      "iteration: 400, elapsed time:34.87s\n",
      "iteration: 450, elapsed time:40.96s\n",
      "iteration: 500, elapsed time:46.57s\n",
      "iteration: 550, elapsed time:50.94s\n",
      "iteration: 600, elapsed time:56.10s\n",
      "iteration: 650, elapsed time:62.49s\n",
      "iteration: 700, elapsed time:67.84s\n",
      "iteration: 750, elapsed time:72.62s\n",
      "iteration: 800, elapsed time:77.97s\n",
      "iteration: 850, elapsed time:82.96s\n",
      "iteration: 900, elapsed time:87.87s\n",
      "iteration: 950, elapsed time:92.87s\n",
      "iteration: 1000, elapsed time:98.75s\n"
     ]
    }
   ],
   "source": [
    "phi_test, theta_test = lda(document_matrix_test, alpha, beta, T,\n",
    "                            n_iter, verbose, seed);"
   ]
  },
  {
   "cell_type": "markdown",
   "metadata": {},
   "source": [
    "gives a measly ~ 30 % correct classification rate"
   ]
  },
  {
   "cell_type": "code",
   "execution_count": 10,
   "metadata": {
    "collapsed": false
   },
   "outputs": [
    {
     "data": {
      "text/plain": [
       "0.30742049469964666"
      ]
     },
     "execution_count": 10,
     "metadata": {},
     "output_type": "execute_result"
    }
   ],
   "source": [
    "using Distributions\n",
    "using Distances\n",
    "\n",
    "function knn(Xtrain::AbstractArray, labels::AbstractVector,\n",
    "            Xquery::AbstractArray, k::Int)\n",
    "    # Simple brute force kNN\n",
    "    n_train = size(Xtrain, 1)\n",
    "    n_queries = size(Xquery, 1)\n",
    "    classification = zeros(Int, n_queries)\n",
    "\n",
    "    for q in 1:n_queries\n",
    "        dists = colwise(Euclidean(), Xtrain', Xquery[q, :])\n",
    "        topclasses = labels[sortperm(dists)[1:k]]\n",
    "        classification[q] = mode(topclasses)\n",
    "    end\n",
    "    \n",
    "    classification\n",
    "end\n",
    "\n",
    "classification = knn(theta, vec(gt), theta_test, 5);\n",
    "\n",
    "sum(classification .== gt_test) / length(gt_test)"
   ]
  },
  {
   "cell_type": "markdown",
   "metadata": {},
   "source": [
    "[First of all, LDA is not an identifed model, the topics may have been switched around in the two training passes (commonly known as label switching), so comparing the learned features directly doesn't make sense (though a distance metric is perfectly fine)]\n",
    "\n",
    "This varies greatly (beteen 10 - 40 %) with different runs of the Gibbs sampler, which seem quite probable considering the Gibbs sampler will only explore local modes of the posterior.\n",
    "\n",
    "Looking at misclassified documents, etc"
   ]
  },
  {
   "cell_type": "code",
   "execution_count": 11,
   "metadata": {
    "collapsed": false
   },
   "outputs": [
    {
     "data": {
      "text/plain": [
       "([5,6,12],[1,2,3])"
      ]
     },
     "execution_count": 11,
     "metadata": {},
     "output_type": "execute_result"
    }
   ],
   "source": [
    "find(classification .== gt_test)[1:3], find(classification .!= gt_test)[1:3]\n",
    "\n",
    "# etc"
   ]
  },
  {
   "cell_type": "markdown",
   "metadata": {},
   "source": [
    "# Deriving the update rules\n",
    "\n",
    "use Bayes rule and the conjugacy properties of the Dirichlet/Multinomial, and marginalize to \"collapse\""
   ]
  }
 ],
 "metadata": {
  "kernelspec": {
   "display_name": "Julia 0.5.0",
   "language": "julia",
   "name": "julia-0.5"
  },
  "language_info": {
   "file_extension": ".jl",
   "mimetype": "application/julia",
   "name": "julia",
   "version": "0.5.0"
  }
 },
 "nbformat": 4,
 "nbformat_minor": 1
}
