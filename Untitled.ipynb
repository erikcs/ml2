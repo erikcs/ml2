{
 "cells": [
  {
   "cell_type": "markdown",
   "metadata": {},
   "source": [
    "Carl Henriks function:"
   ]
  },
  {
   "cell_type": "code",
   "execution_count": 1,
   "metadata": {
    "collapsed": true
   },
   "outputs": [],
   "source": [
    "import pylab as pb\n",
    "pb.ion()\n",
    "import numpy as np\n",
    "import itertools as it\n",
    "from math import exp, sqrt, pi\n",
    "import scipy.stats\n",
    "from scipy.spatial.distance import cdist\n",
    "\n",
    "def create_index_set(evidence):\n",
    "    dist = np.zeros([evidence.shape[0],evidence.shape[0]])\n",
    "    for i in range(dist.shape[0]):\n",
    "        for j in range(dist.shape[1]):\n",
    "            dist[i,j] = evidence[i]-evidence[j]\n",
    "            if i==j:\n",
    "                dist[i,j] = pow(10,4)\n",
    "\n",
    "    L = [];\n",
    "    D = np.arange(evidence.shape[0]).tolist()\n",
    "    ind = evidence.argmin()\n",
    "    L.append(ind)\n",
    "    D.remove(ind)\n",
    "    while D:\n",
    "        N = []\n",
    "        for i in range(len(D)):\n",
    "            ind = dist[D[i],D].argmin()\n",
    "            if D[ind]==L[-1]:\n",
    "                N.append(D[ind])\n",
    "        if not N:\n",
    "            L.append(D[dist[L[-1],D].argmin()])\n",
    "        else:\n",
    "            L.append(N[dist[L[-1],N].argmin()])\n",
    "        D.remove(L[-1])\n",
    "    return L"
   ]
  },
  {
   "cell_type": "markdown",
   "metadata": {},
   "source": [
    "my evidence:"
   ]
  },
  {
   "cell_type": "code",
   "execution_count": 2,
   "metadata": {
    "collapsed": true
   },
   "outputs": [],
   "source": [
    "from sklearn.utils.extmath import cartesian\n",
    "# The data, one row per obs\n",
    "X = np.array([[-1, 1], [0, 1], [1, 1],\n",
    "             [-1, 0], [0, 0], [1, 0],\n",
    "             [-1, -1], [0, -1], [1, -1]])\n",
    "\n",
    "# One row is one dataset\n",
    "D = cartesian(\n",
    "    np.column_stack((np.ones(9), -1*np.ones(9)))\n",
    "    )\n",
    "\n",
    "def probD(X, Y, model, *args):\n",
    "    \"\"\"\n",
    "    Compute the probability of the entire dataset\n",
    "    X: x array\n",
    "    Y: Data array\n",
    "    model: string 'M0', etc\n",
    "    *args: theta_i\n",
    "    Return a 512, Ndarray with the probability of each dataset.\n",
    "    Sanity check: all these sum to 1\n",
    "    \"\"\"\n",
    "    if model == 'M0':\n",
    "        arr = np.zeros(512)\n",
    "        arr.fill(1.0/512.0)\n",
    "        return arr\n",
    "    \n",
    "    elif model == 'M1':\n",
    "        assert len(args) == 1\n",
    "        t1 = args\n",
    "        fcn =  1.0 / (1.0 + np.exp(-Y *t1 * X[:,0]))\n",
    "        return fcn.prod(axis=1)\n",
    "    \n",
    "    elif model == 'M2':\n",
    "        assert len(args) == 2\n",
    "        t1, t2 = args\n",
    "        fcn =  1.0 / (1.0 + np.exp(-Y *(t1 * X[:,0] + t2 * X[:,1])))\n",
    "        return fcn.prod(axis=1)  \n",
    "\n",
    "    elif model == 'M3':\n",
    "        assert len(args) == 3\n",
    "        t1, t2, t3 = args\n",
    "        fcn =  1.0 / (1.0 + np.exp(-Y *(t1 * X[:,0] + t2 * X[:,1] + t3)))\n",
    "        return fcn.prod(axis=1)"
   ]
  },
  {
   "cell_type": "code",
   "execution_count": 14,
   "metadata": {
    "collapsed": false
   },
   "outputs": [
    {
     "data": {
      "text/plain": [
       "array([[-1,  1],\n",
       "       [ 0,  1],\n",
       "       [ 1,  1],\n",
       "       [-1,  0],\n",
       "       [ 0,  0],\n",
       "       [ 1,  0],\n",
       "       [-1, -1],\n",
       "       [ 0, -1],\n",
       "       [ 1, -1]])"
      ]
     },
     "execution_count": 14,
     "metadata": {},
     "output_type": "execute_result"
    }
   ],
   "source": [
    "X"
   ]
  },
  {
   "cell_type": "markdown",
   "metadata": {},
   "source": [
    "My entire data set:"
   ]
  },
  {
   "cell_type": "code",
   "execution_count": 23,
   "metadata": {
    "collapsed": false
   },
   "outputs": [
    {
     "data": {
      "text/plain": [
       "array([[ 1.,  1.,  1., ...,  1.,  1.,  1.],\n",
       "       [ 1.,  1.,  1., ...,  1.,  1., -1.],\n",
       "       [ 1.,  1.,  1., ...,  1., -1.,  1.],\n",
       "       ..., \n",
       "       [-1., -1., -1., ..., -1.,  1., -1.],\n",
       "       [-1., -1., -1., ..., -1., -1.,  1.],\n",
       "       [-1., -1., -1., ..., -1., -1., -1.]])"
      ]
     },
     "execution_count": 23,
     "metadata": {},
     "output_type": "execute_result"
    }
   ],
   "source": [
    "D"
   ]
  },
  {
   "cell_type": "code",
   "execution_count": 24,
   "metadata": {
    "collapsed": false
   },
   "outputs": [
    {
     "data": {
      "text/plain": [
       "(512, 9)"
      ]
     },
     "execution_count": 24,
     "metadata": {},
     "output_type": "execute_result"
    }
   ],
   "source": [
    "D.shape"
   ]
  },
  {
   "cell_type": "markdown",
   "metadata": {},
   "source": [
    "create two aribtrary models"
   ]
  },
  {
   "cell_type": "code",
   "execution_count": 15,
   "metadata": {
    "collapsed": false
   },
   "outputs": [],
   "source": [
    "ev = np.zeros((512, 2))\n",
    "ev[:,0] = probD(X, D, 'M1', 0.1)\n",
    "ev[:,1] = probD(X, D, 'M2', 0.1, 1)"
   ]
  },
  {
   "cell_type": "code",
   "execution_count": 16,
   "metadata": {
    "collapsed": false
   },
   "outputs": [
    {
     "data": {
      "text/plain": [
       "array([[ 0.00193854,  0.00094395],\n",
       "       [ 0.00175406,  0.00232173],\n",
       "       [ 0.00193854,  0.00256591],\n",
       "       ..., \n",
       "       [ 0.00193854,  0.00034726],\n",
       "       [ 0.00214242,  0.00038378],\n",
       "       [ 0.00193854,  0.00094395]])"
      ]
     },
     "execution_count": 16,
     "metadata": {},
     "output_type": "execute_result"
    }
   ],
   "source": [
    "ev"
   ]
  },
  {
   "cell_type": "markdown",
   "metadata": {},
   "source": [
    "all good:"
   ]
  },
  {
   "cell_type": "code",
   "execution_count": 22,
   "metadata": {
    "collapsed": false
   },
   "outputs": [
    {
     "data": {
      "text/plain": [
       "array([ 1.,  1.])"
      ]
     },
     "execution_count": 22,
     "metadata": {},
     "output_type": "execute_result"
    }
   ],
   "source": [
    "ev.sum(axis=1)"
   ]
  },
  {
   "cell_type": "code",
   "execution_count": 17,
   "metadata": {
    "collapsed": false
   },
   "outputs": [
    {
     "data": {
      "text/plain": [
       "(512, 2)"
      ]
     },
     "execution_count": 17,
     "metadata": {},
     "output_type": "execute_result"
    }
   ],
   "source": [
    "ev.shape"
   ]
  },
  {
   "cell_type": "markdown",
   "metadata": {},
   "source": [
    "my data is just organised as the transpose of yours, so"
   ]
  },
  {
   "cell_type": "code",
   "execution_count": 18,
   "metadata": {
    "collapsed": false
   },
   "outputs": [],
   "source": [
    "ev = ev.transpose()"
   ]
  },
  {
   "cell_type": "code",
   "execution_count": 19,
   "metadata": {
    "collapsed": false
   },
   "outputs": [
    {
     "data": {
      "text/plain": [
       "array([[ 0.00193854,  0.00175406,  0.00193854, ...,  0.00193854,\n",
       "         0.00214242,  0.00193854],\n",
       "       [ 0.00094395,  0.00232173,  0.00256591, ...,  0.00034726,\n",
       "         0.00038378,  0.00094395]])"
      ]
     },
     "execution_count": 19,
     "metadata": {},
     "output_type": "execute_result"
    }
   ],
   "source": [
    "ev"
   ]
  },
  {
   "cell_type": "code",
   "execution_count": 20,
   "metadata": {
    "collapsed": false
   },
   "outputs": [
    {
     "data": {
      "text/plain": [
       "(2, 512)"
      ]
     },
     "execution_count": 20,
     "metadata": {},
     "output_type": "execute_result"
    }
   ],
   "source": [
    "ev.shape"
   ]
  },
  {
   "cell_type": "markdown",
   "metadata": {},
   "source": [
    "try to use your index function:"
   ]
  },
  {
   "cell_type": "code",
   "execution_count": 13,
   "metadata": {
    "collapsed": false
   },
   "outputs": [
    {
     "ename": "ValueError",
     "evalue": "setting an array element with a sequence.",
     "output_type": "error",
     "traceback": [
      "\u001b[0;31m---------------------------------------------------------------------------\u001b[0m",
      "\u001b[0;31mValueError\u001b[0m                                Traceback (most recent call last)",
      "\u001b[0;32m<ipython-input-13-bc6d10e77aea>\u001b[0m in \u001b[0;36m<module>\u001b[0;34m()\u001b[0m\n\u001b[0;32m----> 1\u001b[0;31m \u001b[0mcreate_index_set\u001b[0m\u001b[0;34m(\u001b[0m\u001b[0mev\u001b[0m\u001b[0;34m)\u001b[0m\u001b[0;34m\u001b[0m\u001b[0m\n\u001b[0m",
      "\u001b[0;32m<ipython-input-1-8bc4bc2b71ac>\u001b[0m in \u001b[0;36mcreate_index_set\u001b[0;34m(evidence)\u001b[0m\n\u001b[1;32m     12\u001b[0m     \u001b[0;32mfor\u001b[0m \u001b[0mi\u001b[0m \u001b[0;32min\u001b[0m \u001b[0mrange\u001b[0m\u001b[0;34m(\u001b[0m\u001b[0mdist\u001b[0m\u001b[0;34m.\u001b[0m\u001b[0mshape\u001b[0m\u001b[0;34m[\u001b[0m\u001b[0;36m0\u001b[0m\u001b[0;34m]\u001b[0m\u001b[0;34m)\u001b[0m\u001b[0;34m:\u001b[0m\u001b[0;34m\u001b[0m\u001b[0m\n\u001b[1;32m     13\u001b[0m         \u001b[0;32mfor\u001b[0m \u001b[0mj\u001b[0m \u001b[0;32min\u001b[0m \u001b[0mrange\u001b[0m\u001b[0;34m(\u001b[0m\u001b[0mdist\u001b[0m\u001b[0;34m.\u001b[0m\u001b[0mshape\u001b[0m\u001b[0;34m[\u001b[0m\u001b[0;36m1\u001b[0m\u001b[0;34m]\u001b[0m\u001b[0;34m)\u001b[0m\u001b[0;34m:\u001b[0m\u001b[0;34m\u001b[0m\u001b[0m\n\u001b[0;32m---> 14\u001b[0;31m             \u001b[0mdist\u001b[0m\u001b[0;34m[\u001b[0m\u001b[0mi\u001b[0m\u001b[0;34m,\u001b[0m\u001b[0mj\u001b[0m\u001b[0;34m]\u001b[0m \u001b[0;34m=\u001b[0m \u001b[0mevidence\u001b[0m\u001b[0;34m[\u001b[0m\u001b[0mi\u001b[0m\u001b[0;34m]\u001b[0m\u001b[0;34m-\u001b[0m\u001b[0mevidence\u001b[0m\u001b[0;34m[\u001b[0m\u001b[0mj\u001b[0m\u001b[0;34m]\u001b[0m\u001b[0;34m\u001b[0m\u001b[0m\n\u001b[0m\u001b[1;32m     15\u001b[0m             \u001b[0;32mif\u001b[0m \u001b[0mi\u001b[0m\u001b[0;34m==\u001b[0m\u001b[0mj\u001b[0m\u001b[0;34m:\u001b[0m\u001b[0;34m\u001b[0m\u001b[0m\n\u001b[1;32m     16\u001b[0m                 \u001b[0mdist\u001b[0m\u001b[0;34m[\u001b[0m\u001b[0mi\u001b[0m\u001b[0;34m,\u001b[0m\u001b[0mj\u001b[0m\u001b[0;34m]\u001b[0m \u001b[0;34m=\u001b[0m \u001b[0mpow\u001b[0m\u001b[0;34m(\u001b[0m\u001b[0;36m10\u001b[0m\u001b[0;34m,\u001b[0m\u001b[0;36m4\u001b[0m\u001b[0;34m)\u001b[0m\u001b[0;34m\u001b[0m\u001b[0m\n",
      "\u001b[0;31mValueError\u001b[0m: setting an array element with a sequence."
     ]
    }
   ],
   "source": [
    "create_index_set(ev)"
   ]
  },
  {
   "cell_type": "code",
   "execution_count": null,
   "metadata": {
    "collapsed": true
   },
   "outputs": [],
   "source": []
  }
 ],
 "metadata": {
  "kernelspec": {
   "display_name": "Python 2",
   "language": "python",
   "name": "python2"
  },
  "language_info": {
   "codemirror_mode": {
    "name": "ipython",
    "version": 2
   },
   "file_extension": ".py",
   "mimetype": "text/x-python",
   "name": "python",
   "nbconvert_exporter": "python",
   "pygments_lexer": "ipython2",
   "version": "2.7.10"
  }
 },
 "nbformat": 4,
 "nbformat_minor": 0
}
